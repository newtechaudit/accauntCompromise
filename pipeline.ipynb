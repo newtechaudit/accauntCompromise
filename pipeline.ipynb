{
 "cells": [
  {
   "cell_type": "markdown",
   "metadata": {
    "colab_type": "text",
    "id": "BfqRRbIw4zYR"
   },
   "source": [
    "## Импорт необходимых библиотек"
   ]
  },
  {
   "cell_type": "code",
   "execution_count": null,
   "metadata": {
    "collapsed": true
   },
   "outputs": [],
   "source": [
    "import cv2\n",
    "import os\n",
    "import matplotlib.pyplot as plt\n",
    "from img_embedder import *\n",
    "from torchvision import transforms\n",
    "from PIL import Image\n",
    "import numpy as np\n",
    "from numpy import random\n",
    "from models.experimental import attempt_load\n",
    "from utils.general import check_img_size, non_max_suppression, scale_coords\n",
    "from utils.datasets import LoadImages, letterbox\n",
    "from utils.torch_utils import select_device"
   ]
  },
  {
   "cell_type": "code",
   "execution_count": null,
   "metadata": {
    "collapsed": true
   },
   "outputs": [],
   "source": [
    "%matplotlib inline"
   ]
  },
  {
   "cell_type": "code",
   "execution_count": null,
   "metadata": {},
   "outputs": [],
   "source": [
    "s = f'Using torch {torch.__version__} '\n",
    "d = [torch.cuda.get_device_properties(i) for i in range(torch.cuda.device_count())]\n",
    "for i in range(0, torch.cuda.device_count()):\n",
    "    if i == 1:\n",
    "        s = ' ' * len(s)\n",
    "    print(\"%scuda:%g (%s, %dMB)\" % (s, i, d[i].name, d[i].total_memory / 1024 ** 2))"
   ]
  },
  {
   "cell_type": "code",
   "execution_count": null,
   "metadata": {
    "collapsed": true
   },
   "outputs": [],
   "source": [
    "device = select_device('cuda')"
   ]
  },
  {
   "cell_type": "markdown",
   "metadata": {},
   "source": [
    "## Основные функции"
   ]
  },
  {
   "cell_type": "code",
   "execution_count": null,
   "metadata": {
    "collapsed": true
   },
   "outputs": [],
   "source": [
    "# функция для добавления рамки на фото\n",
    "def plot_label_box(img, rect, color=None, label=None, line_thickness=None):\n",
    "    # Plots one bounding box on image img\n",
    "    tl = line_thickness or round(0.002 * (img.shape[0] + img.shape[1]) / 2) + 1  # line/font thickness\n",
    "    color = color or [random.randint(0, 255) for _ in range(3)]\n",
    "    c1, c2 = rect\n",
    "    out = cv2.rectangle(img, c1, c2, color, thickness=tl, lineType=cv2.LINE_AA)\n",
    "    if label:\n",
    "        tf = max(tl - 1, 1)  # font thickness\n",
    "        t_size = cv2.getTextSize(label, 0, fontScale=tl / 3, thickness=tf)[0]\n",
    "        c2 = c1[0] + t_size[0], c1[1] - t_size[1] - 3\n",
    "        cv2.rectangle(img, c1, c2, color, -1, cv2.LINE_AA)  # filled\n",
    "        out = cv2.putText(img, label, (c1[0], c1[1] - 2), 0, tl / 3, \n",
    "                          [225, 255, 255], thickness=tf, lineType=cv2.LINE_AA)\n",
    "    return out"
   ]
  },
  {
   "cell_type": "code",
   "execution_count": null,
   "metadata": {
    "collapsed": true
   },
   "outputs": [],
   "source": [
    "# функция для получения всех объектов на фото с помощью yolov5\n",
    "def get_objects(model, img0, opt):\n",
    "    \n",
    "    detects_obj = dict()\n",
    "    \n",
    "    img = letterbox(img0, new_shape=opt['imgsz'])[0]\n",
    "\n",
    "    # Convert\n",
    "    #img = img[:, :, ::-1] #if open with cv2\n",
    "    img = img.transpose(2, 0, 1)  # BGR to RGB, to 3x416x416\n",
    "    img = np.ascontiguousarray(img)\n",
    "    img = torch.from_numpy(img).to(device)\n",
    "    img = img.half() if opt['half'] else img.float()  # uint8 to fp16/32\n",
    "    img /= 255.0  # 0 - 255 to 0.0 - 1.0\n",
    "\n",
    "    if img.ndimension() == 3:\n",
    "        img = img.unsqueeze(0)\n",
    "        \n",
    "    pred = model(img)[0]\n",
    "    pred = non_max_suppression(pred, opt['conf_thres'], opt['iou_thres'], \n",
    "                               classes=opt['classes'], agnostic=opt['agnostic'])\n",
    "    \n",
    "    for i, det in enumerate(pred):  # detections per image\n",
    "        gn = torch.tensor(img0.shape)[[1, 0, 1, 0]]  # normalization gain whwh\n",
    "        if len(det):\n",
    "            # Rescale boxes from img_size to im0 size\n",
    "            det[:, :4] = scale_coords(img.shape[2:], det[:, :4], img0.shape).round()\n",
    "\n",
    "            # Get results\n",
    "            for *xyxy, conf, cls in reversed(det):\n",
    "                obj_class = names[int(cls)]\n",
    "                obj_arr = detects_obj.get(obj_class, list())\n",
    "                c1, c2 = (int(xyxy[0]), int(xyxy[1])), (int(xyxy[2]), int(xyxy[3]))\n",
    "                obj_arr.append([float(conf), (c1, c2)])\n",
    "                detects_obj[obj_class] = obj_arr\n",
    "            \n",
    "    return detects_obj"
   ]
  },
  {
   "cell_type": "code",
   "execution_count": null,
   "metadata": {
    "collapsed": true
   },
   "outputs": [],
   "source": [
    "# функция для расчета входит ли в зону интереса найденный объект\n",
    "def comp_overlaps(interes_zone, obj_zone):\n",
    "    interes_zone = np.array(interes_zone).reshape(-1)\n",
    "    obj_zone = np.array(obj_zone).reshape(-1)\n",
    "    \n",
    "    x1 = np.maximum(interes_zone[0], obj_zone[0])   \n",
    "    x2 = np.minimum(interes_zone[2], obj_zone[2])\n",
    "    y1 = np.maximum(interes_zone[1], obj_zone[1])\n",
    "    y2 = np.minimum(interes_zone[3], obj_zone[3])\n",
    "    \n",
    "    intersection = np.maximum(x2 - x1, 0) * np.maximum(y2 - y1, 0)\n",
    "    obj_area = (obj_zone[2] - obj_zone[0]) * (obj_zone[3] - obj_zone[1])\n",
    "\n",
    "    return intersection / obj_area"
   ]
  },
  {
   "cell_type": "code",
   "execution_count": null,
   "metadata": {
    "collapsed": true
   },
   "outputs": [],
   "source": [
    "# получаем из найденных объектов только людей, которые находятся в зоне интереса\n",
    "def get_interes_objs(objs, interes_zone, over_treshold, classes=None):\n",
    "    \n",
    "    interes_obj = dict()\n",
    "    \n",
    "    for obj_class in objs.keys():\n",
    "        if obj_class not in classes: continue\n",
    "        interes_obj[obj_class] = [x for x in objs[obj_class] if comp_overlaps(interes_zone, x[1]) > over_treshold]\n",
    "    \n",
    "    return interes_obj"
   ]
  },
  {
   "cell_type": "markdown",
   "metadata": {
    "colab_type": "text",
    "id": "btjxk6zR5Cl6"
   },
   "source": [
    "## Инициализация эмбеддера и трансформера"
   ]
  },
  {
   "cell_type": "code",
   "execution_count": null,
   "metadata": {
    "colab": {
     "base_uri": "https://localhost:8080/",
     "height": 84,
     "referenced_widgets": [
      "4baa6255aedc4c148cfdab9e177a0ab4",
      "1df2d4834302478796ae1403e116e038",
      "cab96c71f5fe49208cfc63ac5f8a5640",
      "49e70e4be7a747ab94d47ba98f3e1c2d",
      "d4c06565e0d44bcab2dd41ee49a72c65",
      "74218a73cf5247c58aaaf1d28319ebf5",
      "13f206dd0b8e422eb8a4c64fcff25faf",
      "f7950c31f11a4287bea7448f0429c4d9"
     ]
    },
    "colab_type": "code",
    "collapsed": true,
    "id": "8tzmyFS3wk_R",
    "outputId": "bf24861f-5561-4525-b9c0-0290f2cf5fe6"
   },
   "outputs": [],
   "source": [
    "norm = transforms.Normalize(mean=[0.485, 0.456, 0.406], std=[0.229, 0.224, 0.225])\n",
    "base_transform = transforms.Compose([transforms.Resize((256, 256)), transforms.ToTensor(), norm])"
   ]
  },
  {
   "cell_type": "code",
   "execution_count": null,
   "metadata": {},
   "outputs": [],
   "source": [
    "saved_models = os.path.join(os.getcwd(), 'image_embedder_saved_models')\n",
    "for _, _, files in os.walk(saved_models): break\n",
    "[file for file in files if file.__contains__('best')]"
   ]
  },
  {
   "cell_type": "code",
   "execution_count": null,
   "metadata": {
    "collapsed": true
   },
   "outputs": [],
   "source": [
    "path_model = os.path.join(saved_models, [x for x in files if x.__contains__('trunk_best')][0])\n",
    "path_embedder = os.path.join(saved_models, [x for x in files if x.__contains__('embedder_best')][0])"
   ]
  },
  {
   "cell_type": "code",
   "execution_count": null,
   "metadata": {
    "collapsed": true
   },
   "outputs": [],
   "source": [
    "embedder = ImageEmbedder(path_model, path_embedder, base_transform)"
   ]
  },
  {
   "cell_type": "markdown",
   "metadata": {},
   "source": [
    "## Инициализация yolov5"
   ]
  },
  {
   "cell_type": "code",
   "execution_count": null,
   "metadata": {
    "collapsed": true
   },
   "outputs": [],
   "source": [
    "opt = {\n",
    "    'imgsz': 640,\n",
    "    'half': device.type != 'cpu',\n",
    "    'conf_thres': 0.25,\n",
    "    'iou_thres': 0.45,\n",
    "    'classes': None,\n",
    "    'agnostic': False\n",
    "}\n",
    "weights = 'yolov5s.pt'\n",
    "source = os.path.join(os.getcwd(), 'data/images')"
   ]
  },
  {
   "cell_type": "code",
   "execution_count": null,
   "metadata": {},
   "outputs": [],
   "source": [
    "yolo5_model = attempt_load(weights, map_location=device)\n",
    "opt['imgsz'] = check_img_size(opt['imgsz'], s=yolo5_model.stride.max())  # check img_size\n",
    "if opt['half']:\n",
    "    yolo5_model.half()  # to FP16\n",
    "    \n",
    "# Get names and colors\n",
    "names = yolo5_model.module.names if hasattr(yolo5_model, 'module') else yolo5_model.names\n",
    "colors = [[random.randint(0, 255) for _ in range(3)] for _ in names]"
   ]
  },
  {
   "cell_type": "markdown",
   "metadata": {},
   "source": [
    "## Отрисовка результатов поиска объектов"
   ]
  },
  {
   "cell_type": "code",
   "execution_count": null,
   "metadata": {
    "collapsed": true
   },
   "outputs": [],
   "source": [
    "# dataset = LoadImages(opt['source'], img_size=opt['imgsz'])\n",
    "# path = dataset.files[0]\n",
    "path = 'image.jpg'"
   ]
  },
  {
   "cell_type": "code",
   "execution_count": null,
   "metadata": {
    "collapsed": true
   },
   "outputs": [],
   "source": [
    "# img0 = cv2.imread(dataset.files[0])\n",
    "img_source = Image.open(path)\n",
    "img0 = np.array(img_source)"
   ]
  },
  {
   "cell_type": "code",
   "execution_count": null,
   "metadata": {
    "collapsed": true
   },
   "outputs": [],
   "source": [
    "objs = get_objects(yolo5_model, img0, opt)"
   ]
  },
  {
   "cell_type": "code",
   "execution_count": null,
   "metadata": {
    "scrolled": true
   },
   "outputs": [],
   "source": [
    "result_img = img0.copy()\n",
    "for obj_class in objs.keys():\n",
    "    for obj in objs[obj_class]:\n",
    "        color = colors[names.index(obj_class)]\n",
    "        label = '%s %.2f' % (obj_class, obj[0])\n",
    "        result_img = plot_label_box(result_img, obj[1], color=color, label=label)\n",
    "\n",
    "Image.fromarray(result_img)"
   ]
  },
  {
   "cell_type": "markdown",
   "metadata": {},
   "source": [
    "## Получение объектов с учетом зоны интереса"
   ]
  },
  {
   "cell_type": "code",
   "execution_count": null,
   "metadata": {
    "collapsed": true
   },
   "outputs": [],
   "source": [
    "overlaps_treshold = 0.8"
   ]
  },
  {
   "cell_type": "code",
   "execution_count": null,
   "metadata": {
    "collapsed": true
   },
   "outputs": [],
   "source": [
    "interes_zone = ((550, 40), (750, 700))"
   ]
  },
  {
   "cell_type": "code",
   "execution_count": null,
   "metadata": {
    "collapsed": true
   },
   "outputs": [],
   "source": [
    "interes_objs = get_interes_objs(objs, interes_zone, 0.8, classes=['person'])"
   ]
  },
  {
   "cell_type": "code",
   "execution_count": null,
   "metadata": {
    "collapsed": true
   },
   "outputs": [],
   "source": [
    "result_img = img0.copy()\n",
    "result_img = plot_label_box(result_img, interes_zone, color=[0,0,0], label='interes_zone', line_thickness=3)"
   ]
  },
  {
   "cell_type": "code",
   "execution_count": null,
   "metadata": {
    "scrolled": true
   },
   "outputs": [],
   "source": [
    "for obj_class in interes_objs.keys():\n",
    "    for obj in interes_objs[obj_class]:\n",
    "        color = colors[names.index(obj_class)]\n",
    "        label = '%s %.2f' % (obj_class, obj[0])\n",
    "        result_img = plot_label_box(result_img, obj[1], color=color, label=label)\n",
    "\n",
    "Image.fromarray(result_img)"
   ]
  },
  {
   "cell_type": "code",
   "execution_count": null,
   "metadata": {
    "collapsed": true
   },
   "outputs": [],
   "source": [
    "persons = interes_objs.get('person', list())\n",
    "l = len(persons)"
   ]
  },
  {
   "cell_type": "code",
   "execution_count": null,
   "metadata": {},
   "outputs": [],
   "source": [
    "fig = plt.figure(figsize=(15,10))\n",
    "\n",
    "for i in range(l):\n",
    "    person_img = img_source.crop(np.array(persons[i][1]).reshape(-1))\n",
    "    embedder.img2vect(person_img)\n",
    "    plt.subplot(l+1, 4, i+1); plt.imshow(person_img);"
   ]
  },
  {
   "cell_type": "markdown",
   "metadata": {},
   "source": [
    "## Тест производительности"
   ]
  },
  {
   "cell_type": "code",
   "execution_count": null,
   "metadata": {
    "collapsed": true
   },
   "outputs": [],
   "source": [
    "# %%time\n",
    "# print(os.environ['CUDA_VISIBLE_DEVICES'])\n",
    "# for i in range(180 * 24):\n",
    "#     img_source = Image.open(path)\n",
    "#     img0 = np.array(img_source)\n",
    "#     objs = get_objects(yolo5_model, img0, opt)\n",
    "#     interes_objs = get_interes_objs(objs, interes_zone, 0.8, classes=['person'])\n",
    "#     persons = interes_objs.get('person', list())\n",
    "#     l = len(persons)\n",
    "#     for i in range(l):\n",
    "#         person_img = img_source.crop(np.array(persons[i][1]).reshape(-1))\n",
    "#         embedder.img2vect(person_img)"
   ]
  }
 ],
 "metadata": {
  "accelerator": "GPU",
  "colab": {
   "collapsed_sections": [],
   "name": "MetricLossOnly.ipynb",
   "provenance": []
  },
  "kernelspec": {
   "display_name": "torch_p36",
   "language": "python",
   "name": "torch_p36"
  },
  "language_info": {
   "codemirror_mode": {
    "name": "ipython",
    "version": 3
   },
   "file_extension": ".py",
   "mimetype": "text/x-python",
   "name": "python",
   "nbconvert_exporter": "python",
   "pygments_lexer": "ipython3",
   "version": "3.6.8"
  },
  "widgets": {
   "application/vnd.jupyter.widget-state+json": {
    "13f206dd0b8e422eb8a4c64fcff25faf": {
     "model_module": "@jupyter-widgets/controls",
     "model_name": "DescriptionStyleModel",
     "state": {
      "_model_module": "@jupyter-widgets/controls",
      "_model_module_version": "1.5.0",
      "_model_name": "DescriptionStyleModel",
      "_view_count": null,
      "_view_module": "@jupyter-widgets/base",
      "_view_module_version": "1.2.0",
      "_view_name": "StyleView",
      "description_width": ""
     }
    },
    "1827ae60ebe7429b8423872c7efa5ece": {
     "model_module": "@jupyter-widgets/controls",
     "model_name": "DescriptionStyleModel",
     "state": {
      "_model_module": "@jupyter-widgets/controls",
      "_model_module_version": "1.5.0",
      "_model_name": "DescriptionStyleModel",
      "_view_count": null,
      "_view_module": "@jupyter-widgets/base",
      "_view_module_version": "1.2.0",
      "_view_name": "StyleView",
      "description_width": ""
     }
    },
    "1df2d4834302478796ae1403e116e038": {
     "model_module": "@jupyter-widgets/base",
     "model_name": "LayoutModel",
     "state": {
      "_model_module": "@jupyter-widgets/base",
      "_model_module_version": "1.2.0",
      "_model_name": "LayoutModel",
      "_view_count": null,
      "_view_module": "@jupyter-widgets/base",
      "_view_module_version": "1.2.0",
      "_view_name": "LayoutView",
      "align_content": null,
      "align_items": null,
      "align_self": null,
      "border": null,
      "bottom": null,
      "display": null,
      "flex": null,
      "flex_flow": null,
      "grid_area": null,
      "grid_auto_columns": null,
      "grid_auto_flow": null,
      "grid_auto_rows": null,
      "grid_column": null,
      "grid_gap": null,
      "grid_row": null,
      "grid_template_areas": null,
      "grid_template_columns": null,
      "grid_template_rows": null,
      "height": null,
      "justify_content": null,
      "justify_items": null,
      "left": null,
      "margin": null,
      "max_height": null,
      "max_width": null,
      "min_height": null,
      "min_width": null,
      "object_fit": null,
      "object_position": null,
      "order": null,
      "overflow": null,
      "overflow_x": null,
      "overflow_y": null,
      "padding": null,
      "right": null,
      "top": null,
      "visibility": null,
      "width": null
     }
    },
    "27e8026800e74ac2af11a91b160592bd": {
     "model_module": "@jupyter-widgets/base",
     "model_name": "LayoutModel",
     "state": {
      "_model_module": "@jupyter-widgets/base",
      "_model_module_version": "1.2.0",
      "_model_name": "LayoutModel",
      "_view_count": null,
      "_view_module": "@jupyter-widgets/base",
      "_view_module_version": "1.2.0",
      "_view_name": "LayoutView",
      "align_content": null,
      "align_items": null,
      "align_self": null,
      "border": null,
      "bottom": null,
      "display": null,
      "flex": null,
      "flex_flow": null,
      "grid_area": null,
      "grid_auto_columns": null,
      "grid_auto_flow": null,
      "grid_auto_rows": null,
      "grid_column": null,
      "grid_gap": null,
      "grid_row": null,
      "grid_template_areas": null,
      "grid_template_columns": null,
      "grid_template_rows": null,
      "height": null,
      "justify_content": null,
      "justify_items": null,
      "left": null,
      "margin": null,
      "max_height": null,
      "max_width": null,
      "min_height": null,
      "min_width": null,
      "object_fit": null,
      "object_position": null,
      "order": null,
      "overflow": null,
      "overflow_x": null,
      "overflow_y": null,
      "padding": null,
      "right": null,
      "top": null,
      "visibility": null,
      "width": null
     }
    },
    "34fe0747edb74c829d8ac258ccddf4f2": {
     "model_module": "@jupyter-widgets/controls",
     "model_name": "ProgressStyleModel",
     "state": {
      "_model_module": "@jupyter-widgets/controls",
      "_model_module_version": "1.5.0",
      "_model_name": "ProgressStyleModel",
      "_view_count": null,
      "_view_module": "@jupyter-widgets/base",
      "_view_module_version": "1.2.0",
      "_view_name": "StyleView",
      "bar_color": null,
      "description_width": "initial"
     }
    },
    "49e70e4be7a747ab94d47ba98f3e1c2d": {
     "model_module": "@jupyter-widgets/controls",
     "model_name": "HTMLModel",
     "state": {
      "_dom_classes": [],
      "_model_module": "@jupyter-widgets/controls",
      "_model_module_version": "1.5.0",
      "_model_name": "HTMLModel",
      "_view_count": null,
      "_view_module": "@jupyter-widgets/controls",
      "_view_module_version": "1.5.0",
      "_view_name": "HTMLView",
      "description": "",
      "description_tooltip": null,
      "layout": "IPY_MODEL_f7950c31f11a4287bea7448f0429c4d9",
      "placeholder": "​",
      "style": "IPY_MODEL_13f206dd0b8e422eb8a4c64fcff25faf",
      "value": " 44.7M/44.7M [00:16&lt;00:00, 2.81MB/s]"
     }
    },
    "4baa6255aedc4c148cfdab9e177a0ab4": {
     "model_module": "@jupyter-widgets/controls",
     "model_name": "HBoxModel",
     "state": {
      "_dom_classes": [],
      "_model_module": "@jupyter-widgets/controls",
      "_model_module_version": "1.5.0",
      "_model_name": "HBoxModel",
      "_view_count": null,
      "_view_module": "@jupyter-widgets/controls",
      "_view_module_version": "1.5.0",
      "_view_name": "HBoxView",
      "box_style": "",
      "children": [
       "IPY_MODEL_cab96c71f5fe49208cfc63ac5f8a5640",
       "IPY_MODEL_49e70e4be7a747ab94d47ba98f3e1c2d"
      ],
      "layout": "IPY_MODEL_1df2d4834302478796ae1403e116e038"
     }
    },
    "5ad047b5550044feb4b36b9af41dd16a": {
     "model_module": "@jupyter-widgets/controls",
     "model_name": "IntProgressModel",
     "state": {
      "_dom_classes": [],
      "_model_module": "@jupyter-widgets/controls",
      "_model_module_version": "1.5.0",
      "_model_name": "IntProgressModel",
      "_view_count": null,
      "_view_module": "@jupyter-widgets/controls",
      "_view_module_version": "1.5.0",
      "_view_name": "ProgressView",
      "bar_style": "success",
      "description": "",
      "description_tooltip": null,
      "layout": "IPY_MODEL_b754fee1719043ccab48589b78a168de",
      "max": 1,
      "min": 0,
      "orientation": "horizontal",
      "style": "IPY_MODEL_34fe0747edb74c829d8ac258ccddf4f2",
      "value": 1
     }
    },
    "74218a73cf5247c58aaaf1d28319ebf5": {
     "model_module": "@jupyter-widgets/base",
     "model_name": "LayoutModel",
     "state": {
      "_model_module": "@jupyter-widgets/base",
      "_model_module_version": "1.2.0",
      "_model_name": "LayoutModel",
      "_view_count": null,
      "_view_module": "@jupyter-widgets/base",
      "_view_module_version": "1.2.0",
      "_view_name": "LayoutView",
      "align_content": null,
      "align_items": null,
      "align_self": null,
      "border": null,
      "bottom": null,
      "display": null,
      "flex": null,
      "flex_flow": null,
      "grid_area": null,
      "grid_auto_columns": null,
      "grid_auto_flow": null,
      "grid_auto_rows": null,
      "grid_column": null,
      "grid_gap": null,
      "grid_row": null,
      "grid_template_areas": null,
      "grid_template_columns": null,
      "grid_template_rows": null,
      "height": null,
      "justify_content": null,
      "justify_items": null,
      "left": null,
      "margin": null,
      "max_height": null,
      "max_width": null,
      "min_height": null,
      "min_width": null,
      "object_fit": null,
      "object_position": null,
      "order": null,
      "overflow": null,
      "overflow_x": null,
      "overflow_y": null,
      "padding": null,
      "right": null,
      "top": null,
      "visibility": null,
      "width": null
     }
    },
    "8acb60a00b85468e9ba6aa6a850055d0": {
     "model_module": "@jupyter-widgets/base",
     "model_name": "LayoutModel",
     "state": {
      "_model_module": "@jupyter-widgets/base",
      "_model_module_version": "1.2.0",
      "_model_name": "LayoutModel",
      "_view_count": null,
      "_view_module": "@jupyter-widgets/base",
      "_view_module_version": "1.2.0",
      "_view_name": "LayoutView",
      "align_content": null,
      "align_items": null,
      "align_self": null,
      "border": null,
      "bottom": null,
      "display": null,
      "flex": null,
      "flex_flow": null,
      "grid_area": null,
      "grid_auto_columns": null,
      "grid_auto_flow": null,
      "grid_auto_rows": null,
      "grid_column": null,
      "grid_gap": null,
      "grid_row": null,
      "grid_template_areas": null,
      "grid_template_columns": null,
      "grid_template_rows": null,
      "height": null,
      "justify_content": null,
      "justify_items": null,
      "left": null,
      "margin": null,
      "max_height": null,
      "max_width": null,
      "min_height": null,
      "min_width": null,
      "object_fit": null,
      "object_position": null,
      "order": null,
      "overflow": null,
      "overflow_x": null,
      "overflow_y": null,
      "padding": null,
      "right": null,
      "top": null,
      "visibility": null,
      "width": null
     }
    },
    "b754fee1719043ccab48589b78a168de": {
     "model_module": "@jupyter-widgets/base",
     "model_name": "LayoutModel",
     "state": {
      "_model_module": "@jupyter-widgets/base",
      "_model_module_version": "1.2.0",
      "_model_name": "LayoutModel",
      "_view_count": null,
      "_view_module": "@jupyter-widgets/base",
      "_view_module_version": "1.2.0",
      "_view_name": "LayoutView",
      "align_content": null,
      "align_items": null,
      "align_self": null,
      "border": null,
      "bottom": null,
      "display": null,
      "flex": null,
      "flex_flow": null,
      "grid_area": null,
      "grid_auto_columns": null,
      "grid_auto_flow": null,
      "grid_auto_rows": null,
      "grid_column": null,
      "grid_gap": null,
      "grid_row": null,
      "grid_template_areas": null,
      "grid_template_columns": null,
      "grid_template_rows": null,
      "height": null,
      "justify_content": null,
      "justify_items": null,
      "left": null,
      "margin": null,
      "max_height": null,
      "max_width": null,
      "min_height": null,
      "min_width": null,
      "object_fit": null,
      "object_position": null,
      "order": null,
      "overflow": null,
      "overflow_x": null,
      "overflow_y": null,
      "padding": null,
      "right": null,
      "top": null,
      "visibility": null,
      "width": null
     }
    },
    "cab96c71f5fe49208cfc63ac5f8a5640": {
     "model_module": "@jupyter-widgets/controls",
     "model_name": "IntProgressModel",
     "state": {
      "_dom_classes": [],
      "_model_module": "@jupyter-widgets/controls",
      "_model_module_version": "1.5.0",
      "_model_name": "IntProgressModel",
      "_view_count": null,
      "_view_module": "@jupyter-widgets/controls",
      "_view_module_version": "1.5.0",
      "_view_name": "ProgressView",
      "bar_style": "success",
      "description": "100%",
      "description_tooltip": null,
      "layout": "IPY_MODEL_74218a73cf5247c58aaaf1d28319ebf5",
      "max": 46827520,
      "min": 0,
      "orientation": "horizontal",
      "style": "IPY_MODEL_d4c06565e0d44bcab2dd41ee49a72c65",
      "value": 46827520
     }
    },
    "d4c06565e0d44bcab2dd41ee49a72c65": {
     "model_module": "@jupyter-widgets/controls",
     "model_name": "ProgressStyleModel",
     "state": {
      "_model_module": "@jupyter-widgets/controls",
      "_model_module_version": "1.5.0",
      "_model_name": "ProgressStyleModel",
      "_view_count": null,
      "_view_module": "@jupyter-widgets/base",
      "_view_module_version": "1.2.0",
      "_view_name": "StyleView",
      "bar_color": null,
      "description_width": "initial"
     }
    },
    "db2c3c30ded64edd94b559e80992b182": {
     "model_module": "@jupyter-widgets/controls",
     "model_name": "HTMLModel",
     "state": {
      "_dom_classes": [],
      "_model_module": "@jupyter-widgets/controls",
      "_model_module_version": "1.5.0",
      "_model_name": "HTMLModel",
      "_view_count": null,
      "_view_module": "@jupyter-widgets/controls",
      "_view_module_version": "1.5.0",
      "_view_name": "HTMLView",
      "description": "",
      "description_tooltip": null,
      "layout": "IPY_MODEL_27e8026800e74ac2af11a91b160592bd",
      "placeholder": "​",
      "style": "IPY_MODEL_1827ae60ebe7429b8423872c7efa5ece",
      "value": " 169009152/? [00:07&lt;00:00, 23167622.00it/s]"
     }
    },
    "e1d0273ab5c04cb98c6624cca248b6fb": {
     "model_module": "@jupyter-widgets/controls",
     "model_name": "HBoxModel",
     "state": {
      "_dom_classes": [],
      "_model_module": "@jupyter-widgets/controls",
      "_model_module_version": "1.5.0",
      "_model_name": "HBoxModel",
      "_view_count": null,
      "_view_module": "@jupyter-widgets/controls",
      "_view_module_version": "1.5.0",
      "_view_name": "HBoxView",
      "box_style": "",
      "children": [
       "IPY_MODEL_5ad047b5550044feb4b36b9af41dd16a",
       "IPY_MODEL_db2c3c30ded64edd94b559e80992b182"
      ],
      "layout": "IPY_MODEL_8acb60a00b85468e9ba6aa6a850055d0"
     }
    },
    "f7950c31f11a4287bea7448f0429c4d9": {
     "model_module": "@jupyter-widgets/base",
     "model_name": "LayoutModel",
     "state": {
      "_model_module": "@jupyter-widgets/base",
      "_model_module_version": "1.2.0",
      "_model_name": "LayoutModel",
      "_view_count": null,
      "_view_module": "@jupyter-widgets/base",
      "_view_module_version": "1.2.0",
      "_view_name": "LayoutView",
      "align_content": null,
      "align_items": null,
      "align_self": null,
      "border": null,
      "bottom": null,
      "display": null,
      "flex": null,
      "flex_flow": null,
      "grid_area": null,
      "grid_auto_columns": null,
      "grid_auto_flow": null,
      "grid_auto_rows": null,
      "grid_column": null,
      "grid_gap": null,
      "grid_row": null,
      "grid_template_areas": null,
      "grid_template_columns": null,
      "grid_template_rows": null,
      "height": null,
      "justify_content": null,
      "justify_items": null,
      "left": null,
      "margin": null,
      "max_height": null,
      "max_width": null,
      "min_height": null,
      "min_width": null,
      "object_fit": null,
      "object_position": null,
      "order": null,
      "overflow": null,
      "overflow_x": null,
      "overflow_y": null,
      "padding": null,
      "right": null,
      "top": null,
      "visibility": null,
      "width": null
     }
    }
   }
  }
 },
 "nbformat": 4,
 "nbformat_minor": 1
}
